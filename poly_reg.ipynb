{
  "cells": [
    {
      "cell_type": "code",
      "execution_count": 15,
      "id": "01b0ea19",
      "metadata": {
        "id": "01b0ea19"
      },
      "outputs": [],
      "source": [
        "import numpy as np\n",
        "import matplotlib.pyplot as plt\n",
        "import sympy as sp\n",
        "import random\n",
        "import math\n",
        "\n",
        "#max value of c = 54.99"
      ]
    },
    {
      "cell_type": "markdown",
      "id": "07060e92",
      "metadata": {
        "id": "07060e92"
      },
      "source": [
        "Creating input data"
      ]
    },
    {
      "cell_type": "code",
      "execution_count": 16,
      "id": "b86d0fe5",
      "metadata": {
        "id": "b86d0fe5"
      },
      "outputs": [],
      "source": [
        "def input_data(damping_coefficient, error, initial_displacement, number_points):\n",
        "    # Defining some varibales\n",
        "    natural_w = np.sqrt(12/63)\n",
        "    damping_ratio = damping_coefficient/(2*63*natural_w)\n",
        "    damping_w = natural_w*(np.sqrt(1-(damping_ratio**2)))\n",
        "    phi = math.atan((np.sqrt(1-(damping_ratio**2))/damping_ratio))\n",
        "    amplitude = initial_displacement*natural_w/damping_w\n",
        "\n",
        "    input_x = np.linspace(0, 2*np.pi/damping_w, num= number_points, endpoint=True)\n",
        "\n",
        "    final_list = []\n",
        "    for x in input_x:\n",
        "        y = (amplitude*math.exp(-damping_ratio*natural_w*x))*math.sin(damping_w*x+phi)\n",
        "        final_list.append([x/max(input_x), y])\n",
        "    \n",
        "    # Creating noise in the input \n",
        "    for i in final_list:\n",
        "        i[1] = i[1]*(100+random.randrange(-error, error))/100\n",
        "    \n",
        "    return final_list"
      ]
    },
    {
      "cell_type": "code",
      "execution_count": 17,
      "id": "e7afc3f0",
      "metadata": {
        "id": "e7afc3f0"
      },
      "outputs": [],
      "source": [
        "def magnitude(vector):\n",
        "    sum = 0\n",
        "    for i in vector:\n",
        "        sum = sum + i**2\n",
        "    return sum"
      ]
    },
    {
      "cell_type": "code",
      "execution_count": 18,
      "id": "278792b2",
      "metadata": {
        "id": "278792b2"
      },
      "outputs": [],
      "source": [
        "def func_derivative(input_data, degree_n, weights_values):\n",
        "    x, y = sp.symbols('x y')\n",
        "    \n",
        "    str1=\"\"\n",
        "    for i in range(degree_n):\n",
        "        str1 = str1 + 'w' + str(i) + \" \"\n",
        "    str1 = str1 + 'w' + str(degree_n)\n",
        "\n",
        "    weights = sp.symbols(str1)\n",
        "    \n",
        "    poly = weights[0]\n",
        "    for i in range(1, degree_n + 1):\n",
        "        poly = poly + weights[i]*x**i\n",
        "    poly_2 = poly**2\n",
        "\n",
        "    m=0\n",
        "    for i in range(len(input_data)):\n",
        "        m = m + (poly_2.subs(x, input_data[i][0])) - 2*(poly.subs(x, input_data[i][0]))*input_data[i][1] + (input_data[i][1])**2\n",
        "    m = m/(len(input_data))\n",
        "    \n",
        "    f_grad = [m.diff(weights[i])for i in range(degree_n+1)]\n",
        "    gradient_f = sp.lambdify(weights, f_grad, \"numpy\")\n",
        "    \n",
        "    final_list = np.array(gradient_f(*weights_values))\n",
        "    return final_list\n"
      ]
    },
    {
      "cell_type": "code",
      "execution_count": 19,
      "id": "77ac1389",
      "metadata": {
        "id": "77ac1389"
      },
      "outputs": [],
      "source": [
        "def gradient_descent(input_data, degree_n, weights_values, learning_rate):\n",
        "    count = 0\n",
        "    # The end condition to terminate iterations for gradient descent method is decided using its magnitude\n",
        "    while magnitude(func_derivative(input_data, degree_n, weights_values)) > 10**(-4) and count<2500:\n",
        "        weights_values = weights_values - learning_rate*(func_derivative(input_data, degree_n, weights_values))\n",
        "        count = count + 1\n",
        "    weights_values = np.array(weights_values)\n",
        "    return weights_values"
      ]
    },
    {
      "cell_type": "code",
      "execution_count": 20,
      "id": "937464af",
      "metadata": {
        "id": "937464af"
      },
      "outputs": [],
      "source": [
        "def polynomial(degree_n, weights_values, x_1):\n",
        "    x, y = sp.symbols('x y')\n",
        "    \n",
        "    str1=\"\"\n",
        "    for i in range(degree_n):\n",
        "        str1 = str1 + 'w' + str(i) + \" \"\n",
        "    str1 = str1 + 'w' + str(degree_n)\n",
        "\n",
        "    weights = sp.symbols(str1)\n",
        "    \n",
        "    poly = weights[0]\n",
        "    for i in range(1, degree_n + 1):\n",
        "        poly = poly + weights[i]*x**i\n",
        "        \n",
        "    new = (poly.subs((weights[i],weights_values[i]) for i in range(degree_n+1)))\n",
        "    return (new.subs(x, x_1))"
      ]
    },
    {
      "cell_type": "markdown",
      "id": "9YQJrbZNPZ5Q",
      "metadata": {
        "id": "9YQJrbZNPZ5Q"
      },
      "source": [
        "Main function below"
      ]
    },
    {
      "cell_type": "code",
      "execution_count": 21,
      "id": "486049fb",
      "metadata": {
        "colab": {
          "base_uri": "https://localhost:8080/"
        },
        "id": "486049fb",
        "outputId": "0ea82314-dac7-4dd0-e533-ea78ae217952"
      },
      "outputs": [
        {
          "name": "stdout",
          "output_type": "stream",
          "text": [
            "[ 0.80683676 -2.21537503  1.40453871]\n"
          ]
        },
        {
          "data": {
            "image/png": "[encoded data removed]",
            "text/plain": [
              "<Figure size 640x480 with 1 Axes>"
            ]
          },
          "metadata": {},
          "output_type": "display_data"
        }
      ],
      "source": [
        "degree_n = int(input(\"Enter the degree of polynomial \"))\n",
        "error = int(input(\"Enter the error(noise) % \"))\n",
        "damping_constant = float(input(\"Enter the damping constant (max value = 54 as above code works only for underdamped) \"))\n",
        "learning_rate = float(input(\"Enter the learning rate \"))\n",
        "number_points = int(input(\"Enter number of data points \"))\n",
        "\n",
        "weights_guess = []\n",
        "for i in range(degree_n+1):\n",
        "  weights_guess.append(0)\n",
        "\n",
        "weights_guess = np.array(weights_guess)\n",
        "\n",
        "final_weights = gradient_descent(input_data(damping_constant, error, 1, number_points), degree_n, weights_guess, learning_rate)\n",
        "print(final_weights)\n",
        "\n",
        "list_1 = np.array(input_data(damping_constant, error, 1, number_points))\n",
        "list_1 = np.transpose(list_1)\n",
        "\n",
        "list_2 = [] \n",
        "for i in list_1[0]:\n",
        "    list_2.append(polynomial(degree_n, final_weights, i))\n",
        "    \n",
        "plt.plot(list_1[0], list_2, color = \"black\")\n",
        "plt.plot(list_1[0], list_1[1])\n",
        "plt.show()"
      ]
    }
  ],
  "metadata": {
    "colab": {
      "provenance": []
    },
    "kernelspec": {
      "display_name": "base",
      "language": "python",
      "name": "python3"
    },
    "language_info": {
      "codemirror_mode": {
        "name": "ipython",
        "version": 3
      },
      "file_extension": ".py",
      "mimetype": "text/x-python",
      "name": "python",
      "nbconvert_exporter": "python",
      "pygments_lexer": "ipython3",
      "version": "3.10.11"
    },
    "vscode": {
      "interpreter": {
        "hash": "bb00df7ae6aaeb05cabb9c91e6771fc224bff2ce70853f797013b797b67e2620"
      }
    }
  },
  "nbformat": 4,
  "nbformat_minor": 5
}
