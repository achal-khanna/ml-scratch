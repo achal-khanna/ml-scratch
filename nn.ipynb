{
 "cells": [
  {
   "cell_type": "code",
   "execution_count": 1,
   "metadata": {},
   "outputs": [],
   "source": [
    "# Importing the necessary modules\n",
    "import numpy as np\n",
    "import matplotlib.pyplot as plt"
   ]
  },
  {
   "cell_type": "markdown",
   "metadata": {},
   "source": [
    "In my neural network, I plan to have input and output layer each with 1 node where there is no activation function for the output layer. Also, each hidden layer will have the same number of nodes and activation function."
   ]
  },
  {
   "cell_type": "markdown",
   "metadata": {},
   "source": [
    "## Defining Input Variables"
   ]
  },
  {
   "cell_type": "code",
   "execution_count": 2,
   "metadata": {},
   "outputs": [],
   "source": [
    "# Variables necessary for input data\n",
    "damping_coefficient = 50    # maximum allowed is 54\n",
    "error =0\n",
    "initial_displacement = 1\n",
    "number_points = 50\n",
    "\n",
    "# Variables to define the neural network\n",
    "learning_rate = 0.8\n",
    "number_layers = 1\n",
    "number_nodes = 1\n",
    "num_iterations = 20000\n",
    "pin = 2     # 1->Sigmoid, 2->tanh, 3->ReLU, 4->LeakyReLU"
   ]
  },
  {
   "cell_type": "markdown",
   "metadata": {},
   "source": [
    "## Creating Input Data"
   ]
  },
  {
   "cell_type": "code",
   "execution_count": 3,
   "metadata": {},
   "outputs": [],
   "source": [
    "def X_data():\n",
    "    # Defining some varibales\n",
    "    natural_w = np.sqrt(12/63)\n",
    "    damping_ratio = damping_coefficient/(2*63*natural_w)\n",
    "    damping_w = natural_w*(np.sqrt(1-(damping_ratio**2)))\n",
    "    phi = np.arctan((np.sqrt(1-(damping_ratio**2))/damping_ratio))\n",
    "    amplitude = initial_displacement*natural_w/damping_w\n",
    "\n",
    "    X = np.linspace(0, 2*np.pi/damping_w, num= number_points, endpoint=True)\n",
    "    X = X.reshape(number_points, 1)\n",
    "    y = np.array((amplitude*np.exp(-damping_ratio*natural_w*X))*np.sin(damping_w*X+phi))\n",
    "    \n",
    "    y = y.T\n",
    "    # Creating noise in the input\n",
    "    err = (-error+2*error*np.random.random(number_points))/100\n",
    "    y = y + y*err\n",
    "\n",
    "    mean = np.mean(X)\n",
    "    std = np.std(X)\n",
    "    X = (X-mean)/std\n",
    "    \n",
    "    return X.T, y, mean, std"
   ]
  },
  {
   "cell_type": "markdown",
   "metadata": {},
   "source": [
    "## Defining Activation Functions\n"
   ]
  },
  {
   "cell_type": "code",
   "execution_count": 4,
   "metadata": {},
   "outputs": [],
   "source": [
    "def activation_function(x):\n",
    "    # Defining sigmoid function\n",
    "    if pin == 1:\n",
    "        return 1/(1+np.exp(-x))\n",
    "    \n",
    "    # Defining tanh function\n",
    "    if pin == 2:\n",
    "        return np.tanh(x)\n",
    "    \n",
    "    # Defining ReLU\n",
    "    if pin == 3:\n",
    "        return np.maximum(x, 0)\n",
    "    \n",
    "    # Defining Leaky ReLU\n",
    "    if pin == 4:\n",
    "        return np.maximum(0.01*x, x)\n",
    "    \n",
    "def activation_derivative(x):\n",
    "    # Defining sigmoid function\n",
    "    if pin == 1:\n",
    "        return activation_function(x)*(1-activation_function(x))\n",
    "    \n",
    "    # Defining tanh function\n",
    "    if pin == 2:\n",
    "        return 1-np.square(activation_function(x))\n",
    "    \n",
    "    # Defining ReLU\n",
    "    if pin == 3:\n",
    "        return np.where(x>0, 1.0, 0)\n",
    "    \n",
    "    # Defining Leaky ReLU\n",
    "    if pin == 4:\n",
    "        return np.where(x>0, 1, 0.01)"
   ]
  },
  {
   "cell_type": "markdown",
   "metadata": {},
   "source": [
    "## Forward Propagation\n"
   ]
  },
  {
   "cell_type": "code",
   "execution_count": 5,
   "metadata": {},
   "outputs": [],
   "source": [
    "def initialise_parameters():\n",
    "    parameters = {}\n",
    "\n",
    "    # From input layer to first hidden layer\n",
    "    parameters['W0'] = np.ones([number_nodes, 1])\n",
    "    parameters['b0'] = np.ones([number_nodes, 1])\n",
    "\n",
    "    # Between hidden layers\n",
    "    for i in range(1, number_layers):\n",
    "        parameters['W'+str(i)] = np.ones([number_nodes, number_nodes])\n",
    "        parameters['b'+str(i)] = np.ones([number_nodes, 1])\n",
    "\n",
    "    # From last hidden layer to the output layer\n",
    "    parameters['W'+str(number_layers)] = np.ones([1, number_nodes])\n",
    "    parameters['b'+str(number_layers)] = np.ones([1,1])\n",
    "    return parameters"
   ]
  },
  {
   "cell_type": "code",
   "execution_count": 6,
   "metadata": {},
   "outputs": [],
   "source": [
    "def forward_propagation(X, parameters):\n",
    "    dict_Z = {}\n",
    "    dict_A = {}\n",
    "    dict_A['A0'] = X\n",
    "    \n",
    "    # Doing for the first iteration\n",
    "    dict_Z['Z1'] = (np.dot(parameters['W0'], X) + parameters['b0'])\n",
    "    dict_A['A1'] = activation_function(dict_Z['Z1'])\n",
    "\n",
    "    for i in range(1, number_layers):\n",
    "        A_prev = dict_A['A'+str(i)]\n",
    "        dict_Z['Z'+str(i+1)] = (np.dot(parameters['W'+str(i)], A_prev) + parameters['b'+str(i)])\n",
    "        dict_A['A'+str(i+1)] = activation_function(dict_Z['Z'+str(i+1)])\n",
    "\n",
    "    # Doing for the last set of weights\n",
    "    dict_Z['Z'+str(number_layers+1)] = (np.dot(parameters['W'+str(number_layers)], dict_A['A'+str(number_layers)]) + parameters['b'+str(number_layers)])\n",
    "    dict_A['A'+str(number_layers+1)] = dict_Z['Z'+str(number_layers+1)]\n",
    "\n",
    "    return dict_Z, dict_A"
   ]
  },
  {
   "cell_type": "code",
   "execution_count": 7,
   "metadata": {},
   "outputs": [],
   "source": [
    "def MSE(Y, dict_A):\n",
    "    AL = dict_A['A'+str(number_layers+1)]\n",
    "    m = Y.shape[1]\n",
    "\n",
    "    mse = 1/(2*m)*np.sum(np.square(AL-Y))\n",
    "    return mse"
   ]
  },
  {
   "cell_type": "markdown",
   "metadata": {},
   "source": [
    "## Back Propagation\n"
   ]
  },
  {
   "cell_type": "code",
   "execution_count": 8,
   "metadata": {},
   "outputs": [],
   "source": [
    "def backward_propagation(Y, dict_A, dict_Z, parameters):\n",
    "    gradient = {}\n",
    "    delta = {}\n",
    "    m = Y.shape[1]\n",
    "\n",
    "    delta[str(number_layers+1)] = (dict_A['A'+str(number_layers+1)]-Y)*activation_derivative(dict_Z['Z'+str(number_layers+1)])\n",
    "\n",
    "    gradient['dW'+str(number_layers)] = delta[str(number_layers+1)].dot(dict_A['A'+str(number_layers)].T)/m\n",
    "    gradient['dB'+str(number_layers)] = np.sum(delta[str(number_layers+1)], axis =1, keepdims = True)/m\n",
    "\n",
    "    for i in reversed(range(1, number_layers+1)):\n",
    "        # print(np.shape(delta[str(i+1)]))\n",
    "        delta[str(i)] = (parameters['W'+str(i)].T).dot(delta[str(i+1)])*activation_derivative(dict_Z['Z'+str(i)])\n",
    "\n",
    "        gradient['dW'+str(i-1)] = delta[str(i)].dot(dict_A['A'+str(i-1)].T)/m\n",
    "        gradient['dB'+str(i-1)] = np.sum(delta[str(i)], axis = 1, keepdims= True)/m\n",
    "    \n",
    "    return gradient"
   ]
  },
  {
   "cell_type": "code",
   "execution_count": 9,
   "metadata": {},
   "outputs": [],
   "source": [
    "def update_parameters(parameters, gradient):\n",
    "    for i in range(number_layers+1):\n",
    "        parameters['W'+str(i)] -= learning_rate*gradient['dW'+str(i)]\n",
    "        parameters['b'+str(i)] = parameters['b'+str(i)] - learning_rate*gradient['dB'+str(i)]\n",
    "    return parameters"
   ]
  },
  {
   "cell_type": "markdown",
   "metadata": {},
   "source": [
    "## Main Function\n"
   ]
  },
  {
   "cell_type": "code",
   "execution_count": 10,
   "metadata": {},
   "outputs": [
    {
     "name": "stdout",
     "output_type": "stream",
     "text": [
      "1.2511424442904817\n",
      "0.00037393629391985596\n",
      "0.00015055960046487442\n",
      "0.00012066671032226253\n",
      "9.475082022355905e-05\n",
      "7.190054456563018e-05\n",
      "5.5330275645473034e-05\n",
      "4.403442274437034e-05\n",
      "3.624770602171485e-05\n",
      "3.074489585257932e-05\n",
      "2.677343397982417e-05\n",
      "2.385892636905977e-05\n",
      "2.1690130442638042e-05\n",
      "2.00566226593893e-05\n",
      "1.8812933206876526e-05\n",
      "1.785668819550122e-05\n",
      "1.711475568577416e-05\n",
      "1.653421255493531e-05\n",
      "1.6076321075035628e-05\n",
      "1.5712436293066214e-05\n"
     ]
    }
   ],
   "source": [
    "X, y, mean, std = X_data()\n",
    "parameters = initialise_parameters()\n",
    "\n",
    "for i in range(num_iterations):\n",
    "    dict_Z, dict_A = forward_propagation(X, parameters)\n",
    "    if ((i%1000) == 0):\n",
    "        print(MSE(y, dict_A))\n",
    "    gradient = backward_propagation(y, dict_A, dict_Z, parameters)\n",
    "    parameters = update_parameters(parameters, gradient)\n",
    "\n",
    "AL = (dict_A['A'+str(number_layers+1)])[0]\n",
    "Y = y[0]\n",
    "x = X[0]"
   ]
  },
  {
   "cell_type": "code",
   "execution_count": 13,
   "metadata": {},
   "outputs": [
    {
     "data": {
      "image/png": "[encoded data removed]",
      "text/plain": [
       "<Figure size 640x480 with 1 Axes>"
      ]
     },
     "metadata": {},
     "output_type": "display_data"
    }
   ],
   "source": [
    "# Plotting the above findings\n",
    "plt.plot(x, Y, color='black', label='True Value')\n",
    "plt.plot(x, AL, color='orange', label='Predicted Value')\n",
    "\n",
    "plt.legend()\n",
    "\n",
    "plt.show()\n"
   ]
  }
 ],
 "metadata": {
  "kernelspec": {
   "display_name": "venv",
   "language": "python",
   "name": "python3"
  },
  "language_info": {
   "codemirror_mode": {
    "name": "ipython",
    "version": 3
   },
   "file_extension": ".py",
   "mimetype": "text/x-python",
   "name": "python",
   "nbconvert_exporter": "python",
   "pygments_lexer": "ipython3",
   "version": "3.10.11"
  },
  "orig_nbformat": 4
 },
 "nbformat": 4,
 "nbformat_minor": 2
}
